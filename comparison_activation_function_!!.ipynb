{
  "cells": [
    {
      "cell_type": "markdown",
      "metadata": {
        "id": "view-in-github",
        "colab_type": "text"
      },
      "source": [
        "<a href=\"https://colab.research.google.com/github/rajantripathi/Data-Sciencec-Projects/blob/master/comparison_activation_function_!!.ipynb\" target=\"_parent\"><img src=\"https://colab.research.google.com/assets/colab-badge.svg\" alt=\"Open In Colab\"/></a>"
      ]
    },
    {
      "cell_type": "code",
      "execution_count": 2,
      "metadata": {
        "id": "oeOWGjUrlv8B"
      },
      "outputs": [],
      "source": [
        "import tensorflow as tf\n",
        "from keras.models import Sequential\n",
        "from keras.layers import Dense\n",
        "from keras.utils import to_categorical\n",
        "from keras.datasets import mnist\n",
        "from keras.callbacks import  Callback\n",
        "import numpy as np "
      ]
    },
    {
      "cell_type": "code",
      "execution_count": 3,
      "metadata": {
        "id": "4_Hu0cB0uptj",
        "colab": {
          "base_uri": "https://localhost:8080/"
        },
        "outputId": "dd0508c5-03c1-4216-b25a-271316aaec99"
      },
      "outputs": [
        {
          "output_type": "stream",
          "name": "stdout",
          "text": [
            "Downloading data from https://storage.googleapis.com/tensorflow/tf-keras-datasets/mnist.npz\n",
            "11490434/11490434 [==============================] - 0s 0us/step\n"
          ]
        }
      ],
      "source": [
        "(X_train , y_train) , (X_test , y_test) = mnist.load_data()"
      ]
    },
    {
      "cell_type": "code",
      "source": [
        "X_train = X_train.astype('float32')/255\n",
        "X_test = X_test.astype('float32')/255"
      ],
      "metadata": {
        "id": "mE5pGEL8qUN9"
      },
      "execution_count": 4,
      "outputs": []
    },
    {
      "cell_type": "code",
      "source": [
        "y_train = to_categorical(y_train , 10)\n",
        "y_test = to_categorical(y_test , 10)"
      ],
      "metadata": {
        "id": "YJn_9XC-qhaW"
      },
      "execution_count": 5,
      "outputs": []
    },
    {
      "cell_type": "code",
      "source": [
        "X_train = np.reshape(X_train , (60000 , 28*28))\n",
        "X_test = np.reshape (X_test , (10000, 28*28))"
      ],
      "metadata": {
        "id": "ClFsLKVLrFVB"
      },
      "execution_count": 6,
      "outputs": []
    },
    {
      "cell_type": "code",
      "source": [
        "#sigmoid \n",
        "\n",
        "nn_sigmoid = Sequential()\n",
        "nn_sigmoid.add(Dense(700 , input_dim = 28*28 , activation = 'sigmoid'))\n",
        "nn_sigmoid.add(Dense(700, activation = 'sigmoid'))\n",
        "nn_sigmoid.add(Dense(700, activation = 'sigmoid'))\n",
        "nn_sigmoid.add(Dense(700, activation = 'sigmoid'))\n",
        "nn_sigmoid.add(Dense(700, activation = 'sigmoid'))\n",
        "nn_sigmoid.add(Dense(350, activation = 'sigmoid'))\n",
        "nn_sigmoid.add(Dense(100, activation = 'sigmoid'))\n",
        "nn_sigmoid.add(Dense(10, activation = 'softmax'))\n"
      ],
      "metadata": {
        "id": "ocHcg1uJsGEO"
      },
      "execution_count": 9,
      "outputs": []
    },
    {
      "cell_type": "code",
      "source": [
        "nn_sigmoid.compile(loss='categorical_crossentropy', optimizer = 'sgd', metrics=['accuracy'])"
      ],
      "metadata": {
        "id": "CFhNx16Vs5FZ"
      },
      "execution_count": 10,
      "outputs": []
    },
    {
      "cell_type": "code",
      "source": [
        "#relu\n",
        "\n",
        "nn_relu = Sequential()\n",
        "nn_relu.add(Dense(700 , input_dim = 28*28 , activation = 'relu'))\n",
        "nn_relu.add(Dense(700, activation = 'relu'))\n",
        "nn_relu.add(Dense(700, activation = 'relu'))\n",
        "nn_relu.add(Dense(700, activation = 'relu'))\n",
        "nn_relu.add(Dense(700, activation = 'relu'))\n",
        "nn_relu.add(Dense(350, activation = 'relu'))\n",
        "nn_relu.add(Dense(100, activation = 'relu'))\n",
        "nn_relu.add(Dense(10, activation = 'softmax'))"
      ],
      "metadata": {
        "id": "t3eCGcMltRxL"
      },
      "execution_count": 11,
      "outputs": []
    },
    {
      "cell_type": "code",
      "source": [
        "nn_relu.compile(loss='categorical_crossentropy', optimizer = 'sgd', metrics=['accuracy'])"
      ],
      "metadata": {
        "id": "DhCho0pAuU_T"
      },
      "execution_count": 12,
      "outputs": []
    },
    {
      "cell_type": "code",
      "source": [
        "nn_elu = Sequential()\n",
        "nn_elu.add(Dense(700, input_dim = 784 , activation = 'elu'))\n",
        "nn_elu.add(Dense(700 , activation='elu'))\n",
        "nn_elu.add(Dense(700 , activation='elu'))\n",
        "nn_elu.add(Dense(700 , activation='elu'))\n",
        "nn_elu.add(Dense(700 , activation='elu'))\n",
        "nn_elu.add(Dense(350 , activation='elu'))\n",
        "nn_elu.add(Dense(100 , activation='elu'))\n",
        "nn_elu.add(Dense(10 , activation='elu'))"
      ],
      "metadata": {
        "id": "hjpJ704huXJS"
      },
      "execution_count": 13,
      "outputs": []
    },
    {
      "cell_type": "code",
      "source": [
        "nn_elu.compile(loss='categorical_crossentropy', optimizer = 'sgd', metrics=['accuracy'])"
      ],
      "metadata": {
        "id": "cN87ivn8vDq7"
      },
      "execution_count": 14,
      "outputs": []
    },
    {
      "cell_type": "code",
      "source": [
        "#record the training process\n",
        "\n",
        "import keras \n",
        "class history_loss(keras.callbacks.Callback):\n",
        "  def on_train_begin(self, logs = {}):\n",
        "    self.losses = []\n",
        "\n",
        "  def on_batch_end(self, batch, logs = {}):\n",
        "    self.losses.append(logs.get('loss'))"
      ],
      "metadata": {
        "id": "nBudZqi0vJOc"
      },
      "execution_count": 16,
      "outputs": []
    },
    {
      "cell_type": "code",
      "source": [
        "n_epochs = 20\n",
        "batch_size = 256\n",
        "validation_split = 0.2"
      ],
      "metadata": {
        "id": "YiaMRo2MwfLr"
      },
      "execution_count": 17,
      "outputs": []
    },
    {
      "cell_type": "code",
      "source": [
        "\n",
        "history_sigmoid = history_loss()\n",
        "\n",
        "nn_sigmoid.fit(X_train , y_train , epochs=n_epochs , batch_size = batch_size , callbacks=[history_sigmoid], validation_split=validation_split, verbose = 2)"
      ],
      "metadata": {
        "colab": {
          "base_uri": "https://localhost:8080/"
        },
        "id": "-G3jeSJkwv6X",
        "outputId": "843b4460-94c5-45c9-b28a-3a745ad9986f"
      },
      "execution_count": 33,
      "outputs": [
        {
          "output_type": "stream",
          "name": "stdout",
          "text": [
            "Epoch 1/20\n",
            "188/188 - 1s - loss: 2.3013 - accuracy: 0.1140 - val_loss: 2.3019 - val_accuracy: 0.1060 - 1s/epoch - 7ms/step\n",
            "Epoch 2/20\n",
            "188/188 - 1s - loss: 2.3013 - accuracy: 0.1140 - val_loss: 2.3021 - val_accuracy: 0.1060 - 1s/epoch - 5ms/step\n",
            "Epoch 3/20\n",
            "188/188 - 1s - loss: 2.3014 - accuracy: 0.1138 - val_loss: 2.3025 - val_accuracy: 0.1060 - 1s/epoch - 5ms/step\n",
            "Epoch 4/20\n",
            "188/188 - 1s - loss: 2.3014 - accuracy: 0.1135 - val_loss: 2.3022 - val_accuracy: 0.1060 - 1s/epoch - 7ms/step\n",
            "Epoch 5/20\n",
            "188/188 - 1s - loss: 2.3013 - accuracy: 0.1137 - val_loss: 2.3025 - val_accuracy: 0.1060 - 1s/epoch - 7ms/step\n",
            "Epoch 6/20\n",
            "188/188 - 1s - loss: 2.3014 - accuracy: 0.1140 - val_loss: 2.3021 - val_accuracy: 0.1060 - 1s/epoch - 5ms/step\n",
            "Epoch 7/20\n",
            "188/188 - 1s - loss: 2.3014 - accuracy: 0.1140 - val_loss: 2.3025 - val_accuracy: 0.1060 - 1s/epoch - 5ms/step\n",
            "Epoch 8/20\n",
            "188/188 - 1s - loss: 2.3014 - accuracy: 0.1140 - val_loss: 2.3026 - val_accuracy: 0.1060 - 1s/epoch - 5ms/step\n",
            "Epoch 9/20\n",
            "188/188 - 1s - loss: 2.3014 - accuracy: 0.1140 - val_loss: 2.3023 - val_accuracy: 0.1060 - 1s/epoch - 5ms/step\n",
            "Epoch 10/20\n",
            "188/188 - 1s - loss: 2.3013 - accuracy: 0.1135 - val_loss: 2.3024 - val_accuracy: 0.1060 - 995ms/epoch - 5ms/step\n",
            "Epoch 11/20\n",
            "188/188 - 1s - loss: 2.3013 - accuracy: 0.1139 - val_loss: 2.3026 - val_accuracy: 0.1060 - 982ms/epoch - 5ms/step\n",
            "Epoch 12/20\n",
            "188/188 - 1s - loss: 2.3013 - accuracy: 0.1140 - val_loss: 2.3031 - val_accuracy: 0.1060 - 975ms/epoch - 5ms/step\n",
            "Epoch 13/20\n",
            "188/188 - 1s - loss: 2.3013 - accuracy: 0.1140 - val_loss: 2.3027 - val_accuracy: 0.1060 - 972ms/epoch - 5ms/step\n",
            "Epoch 14/20\n",
            "188/188 - 1s - loss: 2.3014 - accuracy: 0.1140 - val_loss: 2.3020 - val_accuracy: 0.1060 - 1s/epoch - 7ms/step\n",
            "Epoch 15/20\n",
            "188/188 - 3s - loss: 2.3013 - accuracy: 0.1140 - val_loss: 2.3021 - val_accuracy: 0.1060 - 3s/epoch - 15ms/step\n",
            "Epoch 16/20\n",
            "188/188 - 2s - loss: 2.3014 - accuracy: 0.1140 - val_loss: 2.3023 - val_accuracy: 0.1060 - 2s/epoch - 8ms/step\n",
            "Epoch 17/20\n",
            "188/188 - 1s - loss: 2.3014 - accuracy: 0.1137 - val_loss: 2.3024 - val_accuracy: 0.1060 - 1s/epoch - 5ms/step\n",
            "Epoch 18/20\n",
            "188/188 - 1s - loss: 2.3014 - accuracy: 0.1140 - val_loss: 2.3022 - val_accuracy: 0.1060 - 972ms/epoch - 5ms/step\n",
            "Epoch 19/20\n",
            "188/188 - 1s - loss: 2.3014 - accuracy: 0.1137 - val_loss: 2.3023 - val_accuracy: 0.1060 - 985ms/epoch - 5ms/step\n",
            "Epoch 20/20\n",
            "188/188 - 1s - loss: 2.3014 - accuracy: 0.1140 - val_loss: 2.3023 - val_accuracy: 0.1060 - 994ms/epoch - 5ms/step\n"
          ]
        },
        {
          "output_type": "execute_result",
          "data": {
            "text/plain": [
              "<keras.callbacks.History at 0x7f93f0587970>"
            ]
          },
          "metadata": {},
          "execution_count": 33
        }
      ]
    },
    {
      "cell_type": "code",
      "source": [
        "\n",
        "history_relu = history_loss()\n",
        "\n",
        "nn_relu.fit(X_train , y_train , epochs=n_epochs , batch_size = batch_size , callbacks=[history_relu], validation_split=validation_split, verbose = 2)"
      ],
      "metadata": {
        "colab": {
          "base_uri": "https://localhost:8080/"
        },
        "id": "oZhcSeSwxxbR",
        "outputId": "3bd1eb29-dbc5-45d3-af49-1bb43e5932bb"
      },
      "execution_count": 34,
      "outputs": [
        {
          "output_type": "stream",
          "name": "stdout",
          "text": [
            "Epoch 1/20\n",
            "188/188 - 1s - loss: 0.0137 - accuracy: 0.9977 - val_loss: 0.1008 - val_accuracy: 0.9731 - 1s/epoch - 6ms/step\n",
            "Epoch 2/20\n",
            "188/188 - 1s - loss: 0.0131 - accuracy: 0.9977 - val_loss: 0.1041 - val_accuracy: 0.9722 - 996ms/epoch - 5ms/step\n",
            "Epoch 3/20\n",
            "188/188 - 1s - loss: 0.0127 - accuracy: 0.9980 - val_loss: 0.0972 - val_accuracy: 0.9746 - 997ms/epoch - 5ms/step\n",
            "Epoch 4/20\n",
            "188/188 - 1s - loss: 0.0118 - accuracy: 0.9982 - val_loss: 0.0991 - val_accuracy: 0.9749 - 979ms/epoch - 5ms/step\n",
            "Epoch 5/20\n",
            "188/188 - 1s - loss: 0.0109 - accuracy: 0.9985 - val_loss: 0.1016 - val_accuracy: 0.9748 - 961ms/epoch - 5ms/step\n",
            "Epoch 6/20\n",
            "188/188 - 1s - loss: 0.0105 - accuracy: 0.9982 - val_loss: 0.0989 - val_accuracy: 0.9740 - 955ms/epoch - 5ms/step\n",
            "Epoch 7/20\n",
            "188/188 - 1s - loss: 0.0098 - accuracy: 0.9986 - val_loss: 0.0995 - val_accuracy: 0.9742 - 976ms/epoch - 5ms/step\n",
            "Epoch 8/20\n",
            "188/188 - 1s - loss: 0.0093 - accuracy: 0.9987 - val_loss: 0.1004 - val_accuracy: 0.9744 - 980ms/epoch - 5ms/step\n",
            "Epoch 9/20\n",
            "188/188 - 1s - loss: 0.0088 - accuracy: 0.9988 - val_loss: 0.1638 - val_accuracy: 0.9565 - 996ms/epoch - 5ms/step\n",
            "Epoch 10/20\n",
            "188/188 - 1s - loss: 0.3390 - accuracy: 0.9514 - val_loss: 0.0965 - val_accuracy: 0.9712 - 1s/epoch - 7ms/step\n",
            "Epoch 11/20\n",
            "188/188 - 1s - loss: 0.0316 - accuracy: 0.9922 - val_loss: 0.0938 - val_accuracy: 0.9731 - 1s/epoch - 7ms/step\n",
            "Epoch 12/20\n",
            "188/188 - 1s - loss: 0.0209 - accuracy: 0.9958 - val_loss: 0.0953 - val_accuracy: 0.9741 - 1s/epoch - 6ms/step\n",
            "Epoch 13/20\n",
            "188/188 - 1s - loss: 0.0156 - accuracy: 0.9971 - val_loss: 0.0948 - val_accuracy: 0.9733 - 970ms/epoch - 5ms/step\n",
            "Epoch 14/20\n",
            "188/188 - 1s - loss: 0.0127 - accuracy: 0.9980 - val_loss: 0.0942 - val_accuracy: 0.9745 - 978ms/epoch - 5ms/step\n",
            "Epoch 15/20\n",
            "188/188 - 1s - loss: 0.0110 - accuracy: 0.9984 - val_loss: 0.0949 - val_accuracy: 0.9739 - 970ms/epoch - 5ms/step\n",
            "Epoch 16/20\n",
            "188/188 - 1s - loss: 0.0095 - accuracy: 0.9989 - val_loss: 0.0983 - val_accuracy: 0.9743 - 986ms/epoch - 5ms/step\n",
            "Epoch 17/20\n",
            "188/188 - 1s - loss: 0.0085 - accuracy: 0.9990 - val_loss: 0.0976 - val_accuracy: 0.9751 - 978ms/epoch - 5ms/step\n",
            "Epoch 18/20\n",
            "188/188 - 1s - loss: 0.0076 - accuracy: 0.9993 - val_loss: 0.0984 - val_accuracy: 0.9753 - 953ms/epoch - 5ms/step\n",
            "Epoch 19/20\n",
            "188/188 - 1s - loss: 0.0068 - accuracy: 0.9994 - val_loss: 0.0986 - val_accuracy: 0.9752 - 973ms/epoch - 5ms/step\n",
            "Epoch 20/20\n",
            "188/188 - 1s - loss: 0.0063 - accuracy: 0.9994 - val_loss: 0.1003 - val_accuracy: 0.9747 - 997ms/epoch - 5ms/step\n"
          ]
        },
        {
          "output_type": "execute_result",
          "data": {
            "text/plain": [
              "<keras.callbacks.History at 0x7f93f143e550>"
            ]
          },
          "metadata": {},
          "execution_count": 34
        }
      ]
    },
    {
      "cell_type": "code",
      "source": [
        "\n",
        "history_elu = history_loss()\n",
        "\n",
        "nn_elu.fit(X_train , y_train , epochs=n_epochs , batch_size = batch_size , callbacks=[history_elu], validation_split=validation_split, verbose = 2)"
      ],
      "metadata": {
        "colab": {
          "base_uri": "https://localhost:8080/"
        },
        "id": "dvOW_QkMyHko",
        "outputId": "488825f4-3572-4643-c8e6-348098228eed"
      },
      "execution_count": 35,
      "outputs": [
        {
          "output_type": "stream",
          "name": "stdout",
          "text": [
            "Epoch 1/20\n",
            "188/188 - 1s - loss: 9.0141 - accuracy: 0.2936 - val_loss: 9.0154 - val_accuracy: 0.2906 - 1s/epoch - 7ms/step\n",
            "Epoch 2/20\n",
            "188/188 - 1s - loss: 9.0151 - accuracy: 0.2935 - val_loss: 9.0127 - val_accuracy: 0.2906 - 1s/epoch - 7ms/step\n",
            "Epoch 3/20\n",
            "188/188 - 1s - loss: 9.0144 - accuracy: 0.2935 - val_loss: 9.0127 - val_accuracy: 0.2906 - 1s/epoch - 6ms/step\n",
            "Epoch 4/20\n",
            "188/188 - 1s - loss: 9.0144 - accuracy: 0.2935 - val_loss: 9.0127 - val_accuracy: 0.2905 - 997ms/epoch - 5ms/step\n",
            "Epoch 5/20\n",
            "188/188 - 1s - loss: 9.0151 - accuracy: 0.2935 - val_loss: 9.0127 - val_accuracy: 0.2905 - 991ms/epoch - 5ms/step\n",
            "Epoch 6/20\n",
            "188/188 - 1s - loss: 9.0157 - accuracy: 0.2935 - val_loss: 9.0141 - val_accuracy: 0.2904 - 996ms/epoch - 5ms/step\n",
            "Epoch 7/20\n",
            "188/188 - 1s - loss: 9.0151 - accuracy: 0.2935 - val_loss: 9.0141 - val_accuracy: 0.2904 - 950ms/epoch - 5ms/step\n",
            "Epoch 8/20\n",
            "188/188 - 1s - loss: 9.0147 - accuracy: 0.2935 - val_loss: 9.0141 - val_accuracy: 0.2904 - 954ms/epoch - 5ms/step\n",
            "Epoch 9/20\n",
            "188/188 - 1s - loss: 9.0141 - accuracy: 0.2935 - val_loss: 9.0127 - val_accuracy: 0.2903 - 940ms/epoch - 5ms/step\n",
            "Epoch 10/20\n",
            "188/188 - 1s - loss: 9.0137 - accuracy: 0.2935 - val_loss: 9.0141 - val_accuracy: 0.2903 - 940ms/epoch - 5ms/step\n",
            "Epoch 11/20\n",
            "188/188 - 1s - loss: 9.0147 - accuracy: 0.2934 - val_loss: 9.0140 - val_accuracy: 0.2902 - 943ms/epoch - 5ms/step\n",
            "Epoch 12/20\n",
            "188/188 - 1s - loss: 9.0161 - accuracy: 0.2934 - val_loss: 9.0127 - val_accuracy: 0.2902 - 959ms/epoch - 5ms/step\n",
            "Epoch 13/20\n",
            "188/188 - 1s - loss: 9.0167 - accuracy: 0.2933 - val_loss: 9.0127 - val_accuracy: 0.2902 - 1s/epoch - 7ms/step\n",
            "Epoch 14/20\n",
            "188/188 - 2s - loss: 8.8297 - accuracy: 0.2940 - val_loss: 8.6863 - val_accuracy: 0.2912 - 2s/epoch - 8ms/step\n",
            "Epoch 15/20\n",
            "188/188 - 1s - loss: 8.7481 - accuracy: 0.2942 - val_loss: 9.2249 - val_accuracy: 0.2899 - 1s/epoch - 5ms/step\n",
            "Epoch 16/20\n",
            "188/188 - 1s - loss: 9.0983 - accuracy: 0.2934 - val_loss: 8.8770 - val_accuracy: 0.2910 - 960ms/epoch - 5ms/step\n",
            "Epoch 17/20\n",
            "188/188 - 1s - loss: 8.8817 - accuracy: 0.2940 - val_loss: 8.8757 - val_accuracy: 0.2910 - 961ms/epoch - 5ms/step\n",
            "Epoch 18/20\n",
            "188/188 - 1s - loss: 8.8821 - accuracy: 0.2940 - val_loss: 8.8730 - val_accuracy: 0.2910 - 992ms/epoch - 5ms/step\n",
            "Epoch 19/20\n",
            "188/188 - 1s - loss: 8.8807 - accuracy: 0.2940 - val_loss: 8.8730 - val_accuracy: 0.2909 - 962ms/epoch - 5ms/step\n",
            "Epoch 20/20\n",
            "188/188 - 1s - loss: 8.8817 - accuracy: 0.2939 - val_loss: 8.8730 - val_accuracy: 0.2909 - 931ms/epoch - 5ms/step\n"
          ]
        },
        {
          "output_type": "execute_result",
          "data": {
            "text/plain": [
              "<keras.callbacks.History at 0x7f93f148d310>"
            ]
          },
          "metadata": {},
          "execution_count": 35
        }
      ]
    },
    {
      "cell_type": "code",
      "source": [
        "import matplotlib.pyplot as plt\n",
        "%matplotlib inline\n",
        "plt.plot(np.arange(len(history_sigmoid.losses)), history_sigmoid.losses,label = 'sigmoid')\n",
        "plt.plot(np.arange(len(history_relu.losses)), history_relu.losses,label = 'relu')\n",
        "plt.plot(np.arange(len(history_elu.losses)), history_elu.losses,label = 'elu')\n",
        "plt.title('losses')\n",
        "plt.xlabel('No. of batches')\n",
        "plt.legend(loc = 'best')\n",
        "plt.show\n"
      ],
      "metadata": {
        "colab": {
          "base_uri": "https://localhost:8080/",
          "height": 313
        },
        "id": "2vawop8WzsgO",
        "outputId": "855a9a34-2e2c-4d05-d912-b252d04db892"
      },
      "execution_count": 36,
      "outputs": [
        {
          "output_type": "execute_result",
          "data": {
            "text/plain": [
              "<function matplotlib.pyplot.show(*args, **kw)>"
            ]
          },
          "metadata": {},
          "execution_count": 36
        },
        {
          "output_type": "display_data",
          "data": {
            "text/plain": [
              "<Figure size 432x288 with 1 Axes>"
            ],
            "image/png": "[encoded data removed]"
          },
          "metadata": {
            "needs_background": "light"
          }
        }
      ]
    },
    {
      "cell_type": "code",
      "source": [],
      "metadata": {
        "id": "uIdbDX8S0mTh"
      },
      "execution_count": null,
      "outputs": []
    }
  ],
  "metadata": {
    "colab": {
      "provenance": [],
      "authorship_tag": "ABX9TyPVHCzy4wS+45nsLP/FAANT",
      "include_colab_link": true
    },
    "kernelspec": {
      "display_name": "Python 3",
      "name": "python3"
    },
    "language_info": {
      "name": "python"
    },
    "accelerator": "GPU",
    "gpuClass": "standard"
  },
  "nbformat": 4,
  "nbformat_minor": 0
}